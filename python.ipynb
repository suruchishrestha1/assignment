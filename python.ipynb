{
 "cells": [
  {
   "cell_type": "code",
   "execution_count": 5,
   "metadata": {},
   "outputs": [
    {
     "name": "stdout",
     "output_type": "stream",
     "text": [
      "the number 26 is even.\n"
     ]
    }
   ],
   "source": [
    "# ask a user to enter the number\n",
    "number=int(input(\"enter a number\"))\n",
    "\n",
    "#check if the number is even or odd\n",
    "if number % 2 == 0:\n",
    "    print(f\"the number {number} is even.\")\n",
    "else:\n",
    "    print(f\"the number{number}is odd.\")\n",
    "    "
   ]
  },
  {
   "cell_type": "code",
   "execution_count": 11,
   "metadata": {},
   "outputs": [
    {
     "name": "stdout",
     "output_type": "stream",
     "text": [
      "the number -55 is negetive\n"
     ]
    }
   ],
   "source": [
    "# ask a user to enter the number\n",
    "number=int(input(\"enter a number\"))\n",
    "\n",
    "# check if the number is positive,negetive,or zero\n",
    "if number > 0:\n",
    "    print(f\"the number {number} is positive.\")\n",
    "elif number < 0:\n",
    "    print(f\"the number {number} is negetive\")\n",
    "else:\n",
    "    print(\"the number is zero.\")"
   ]
  },
  {
   "cell_type": "code",
   "execution_count": 14,
   "metadata": {},
   "outputs": [
    {
     "name": "stdout",
     "output_type": "stream",
     "text": [
      "you are not eligible to vote\n"
     ]
    }
   ],
   "source": [
    "# ask a user to enter the age \n",
    "age=int(input(\"enter your age\"))\n",
    "\n",
    "# check if the user is eligible to vote\n",
    "if age >= 18:\n",
    "   print(f\"you are eligible to vote\")\n",
    "else:\n",
    "   print(f\"you are not eligible to vote\")"
   ]
  },
  {
   "cell_type": "code",
   "execution_count": 15,
   "metadata": {},
   "outputs": [
    {
     "name": "stdout",
     "output_type": "stream",
     "text": [
      "the triangle is scalene (all sides are different).\n"
     ]
    }
   ],
   "source": [
    "# ask the user to input the length of three sides\n",
    "side1 = float(input(\"enter the length of the first side:\"))\n",
    "side2 = float(input(\"enter the length of the second side:\"))\n",
    "side3 = float(input(\"enter the length of the third side:\"))\n",
    "\n",
    "# check the length of the triangle based on the side\n",
    "if side1 == side2 ==  side3 :\n",
    "    print(\"the triangle is equilateral (all sides are equal).\")\n",
    "elif side1 == side2 or side2 == side3 or side1 == side3:\n",
    "    print(\"the triangle is isosceles (two sides are equal).\")\n",
    "else:\n",
    "    print(\"the triangle is scalene (all sides are different).\")"
   ]
  },
  {
   "cell_type": "code",
   "execution_count": 17,
   "metadata": {},
   "outputs": [
    {
     "name": "stdout",
     "output_type": "stream",
     "text": [
      "incorrect password. access denied.\n"
     ]
    }
   ],
   "source": [
    "# define the predefined password\n",
    "predefined_password = \"python123\"\n",
    "\n",
    "#ask the user to enter a password\n",
    "user_password = input(\"enter your password:\")\n",
    "\n",
    "# check if the entered password matches the predefined password\n",
    "if user_password == predefined_password:\n",
    "    print(\"access granted.\")\n",
    "else:\n",
    "    print(\"incorrect password. access denied.\")"
   ]
  },
  {
   "cell_type": "code",
   "execution_count": 21,
   "metadata": {},
   "outputs": [
    {
     "name": "stdout",
     "output_type": "stream",
     "text": [
      "5,10,15,20,25,30,35,40,45,50\n"
     ]
    }
   ],
   "source": [
    "# ask user to enter a number\n",
    "number = int(input(\"enter a number to print itd multiplication table:\"))\n",
    "\n",
    "# print the multiplication table for the entered number\n",
    "for i in range(1,11):\n",
    "     print(number * i, end=\",\" if i < 10 else \"\\n\")"
   ]
  },
  {
   "cell_type": "code",
   "execution_count": 22,
   "metadata": {},
   "outputs": [
    {
     "name": "stdout",
     "output_type": "stream",
     "text": [
      "sum of even numbers in the list: 10\n"
     ]
    }
   ],
   "source": [
    "def sum_of_even_numbers(numbers):\n",
    "    # initialize a variable to hold the sum of even numbers\n",
    "    even_sum = 0\n",
    "    # loop through the list of the numbers\n",
    "    for num in numbers:\n",
    "        # check if the number is even\n",
    "        if num % 2 == 0:\n",
    "            even_sum +=num\n",
    "\n",
    "    return even_sum\n",
    "\n",
    "# example input\n",
    "input_list = [2,5,8,3]\n",
    "\n",
    "# call the function and display the result\n",
    "print(f\"sum of even numbers in the list: {sum_of_even_numbers(input_list)}\")\n",
    "\n",
    "\n",
    "\n",
    "\n",
    "\n"
   ]
  },
  {
   "cell_type": "code",
   "execution_count": 23,
   "metadata": {},
   "outputs": [
    {
     "name": "stdout",
     "output_type": "stream",
     "text": [
      "Largest = 20, Smallest = 5\n"
     ]
    }
   ],
   "source": [
    "def find_largest_and_smallest(numbers):\n",
    "    # Initialize the largest and smallest values to the first element of the list\n",
    "    largest = numbers[0]\n",
    "    smallest = numbers[0]\n",
    "    \n",
    "    # Loop through the list to find the largest and smallest numbers\n",
    "    for num in numbers:\n",
    "        if num > largest:\n",
    "            largest = num\n",
    "        if num < smallest:\n",
    "            smallest = num\n",
    "    \n",
    "    return largest, smallest\n",
    "\n",
    "# Example input\n",
    "input_list = [10, 20, 5, 8]\n",
    "\n",
    "# Call the function and display the result\n",
    "largest, smallest = find_largest_and_smallest(input_list)\n",
    "print(f\"Largest = {largest}, Smallest = {smallest}\")\n"
   ]
  },
  {
   "cell_type": "code",
   "execution_count": 24,
   "metadata": {},
   "outputs": [
    {
     "name": "stdout",
     "output_type": "stream",
     "text": [
      "The sum of the digits of 2345 is: 14\n"
     ]
    }
   ],
   "source": [
    "# Function to calculate sum of digits\n",
    "def sum_of_digits(number):\n",
    "    # Initialize sum to 0\n",
    "    sum_digits = 0\n",
    "    \n",
    "    # Loop through each digit in the number\n",
    "    for digit in str(number):\n",
    "        sum_digits += int(digit)\n",
    "    \n",
    "    return sum_digits\n",
    "\n",
    "# Input: user provides a number\n",
    "number = int(input(\"Enter a number: \"))\n",
    "\n",
    "# Output: sum of the digits\n",
    "result = sum_of_digits(number)\n",
    "print(f\"The sum of the digits of {number} is: {result}\")\n"
   ]
  },
  {
   "cell_type": "code",
   "execution_count": 25,
   "metadata": {},
   "outputs": [
    {
     "name": "stdout",
     "output_type": "stream",
     "text": [
      "The reversed string is: ihcurusolleh\n"
     ]
    }
   ],
   "source": [
    "# Function to reverse the string\n",
    "def reverse_string(input_string):\n",
    "    # Initialize an empty string for the reversed version\n",
    "    reversed_string = \"\"\n",
    "    \n",
    "    # Loop through each character in the string in reverse order\n",
    "    for char in input_string:\n",
    "        reversed_string = char + reversed_string  # Add the character to the front of the reversed string\n",
    "    \n",
    "    return reversed_string\n",
    "\n",
    "# Input: user provides a string\n",
    "input_string = input(\"Enter a string: \")\n",
    "\n",
    "# Output: reversed string\n",
    "result = reverse_string(input_string)\n",
    "print(f\"The reversed string is: {result}\")\n"
   ]
  },
  {
   "cell_type": "code",
   "execution_count": 26,
   "metadata": {},
   "outputs": [
    {
     "name": "stdout",
     "output_type": "stream",
     "text": [
      "The factorial of 20 is: 2432902008176640000\n"
     ]
    }
   ],
   "source": [
    "# Function to calculate factorial\n",
    "def factorial(n):\n",
    "    # Initialize result to 1 (since factorial of 0 is 1)\n",
    "    result = 1\n",
    "    \n",
    "    # Loop from 1 to n (inclusive)\n",
    "    for i in range(1, n + 1):\n",
    "        result *= i  # Multiply result by i in each iteration\n",
    "    \n",
    "    return result\n",
    "\n",
    "# Input: user provides a number\n",
    "n = int(input(\"Enter a number: \"))\n",
    "\n",
    "# Output: factorial of the number\n",
    "result = factorial(n)\n",
    "print(f\"The factorial of {n} is: {result}\")\n"
   ]
  },
  {
   "cell_type": "code",
   "execution_count": 27,
   "metadata": {},
   "outputs": [
    {
     "name": "stdout",
     "output_type": "stream",
     "text": [
      "Is 4 a prime number? False\n"
     ]
    }
   ],
   "source": [
    "# Function to check if a number is prime\n",
    "def is_prime(n):\n",
    "    # Handle special cases\n",
    "    if n <= 1:\n",
    "        return False  # 0 and 1 are not prime numbers\n",
    "    if n == 2:\n",
    "        return True   # 2 is a prime number\n",
    "    \n",
    "    # Check divisibility from 2 to the square root of n\n",
    "    for i in range(2, int(n ** 0.5) + 1):\n",
    "        if n % i == 0:\n",
    "            return False  # n is divisible by i, so it's not prime\n",
    "    \n",
    "    return True  # n is prime if no divisors are found\n",
    "\n",
    "# Input: user provides a number\n",
    "n = int(input(\"Enter a number: \"))\n",
    "\n",
    "# Output: whether the number is prime or not\n",
    "result = is_prime(n)\n",
    "print(f\"Is {n} a prime number? {result}\")\n"
   ]
  },
  {
   "cell_type": "code",
   "execution_count": 30,
   "metadata": {},
   "outputs": [
    {
     "name": "stdout",
     "output_type": "stream",
     "text": [
      "The maximum value in the list is: 9\n"
     ]
    }
   ],
   "source": [
    "# Function to find the maximum value in a list\n",
    "def find_max(lst):\n",
    "    # Initialize max_value with the first element of the list\n",
    "    max_value = lst[0]\n",
    "    \n",
    "    # Iterate through the list starting from the second element\n",
    "    for num in lst[1:]:\n",
    "        if num > max_value:\n",
    "            max_value = num  # Update max_value if a larger number is found\n",
    "    \n",
    "    return max_value\n",
    "\n",
    "# Input: user provides a list\n",
    "lst = [1, 7, 9, 0]\n",
    "\n",
    "# Output: maximum value in the list\n",
    "result = find_max(lst)\n",
    "print(f\"The maximum value in the list is: {result}\")\n"
   ]
  },
  {
   "cell_type": "code",
   "execution_count": 31,
   "metadata": {},
   "outputs": [
    {
     "name": "stdout",
     "output_type": "stream",
     "text": [
      "Is the string 'hello' a palindrome? False\n"
     ]
    }
   ],
   "source": [
    "# Function to check if a string is a palindrome\n",
    "def palindrome_check(string):\n",
    "    # Convert the string to lowercase to ensure case insensitivity\n",
    "    string = string.lower()\n",
    "    \n",
    "    # Check if the string is equal to its reverse\n",
    "    return string == string[::-1]\n",
    "\n",
    "# Input: user provides a string\n",
    "string = input(\"Enter a string: \")\n",
    "\n",
    "# Output: whether the string is a palindrome or not\n",
    "result = palindrome_check(string)\n",
    "print(f\"Is the string '{string}' a palindrome? {result}\")\n"
   ]
  },
  {
   "cell_type": "code",
   "execution_count": 32,
   "metadata": {},
   "outputs": [
    {
     "name": "stdout",
     "output_type": "stream",
     "text": [
      "The sum of squares of the first 7 natural numbers is: 140\n"
     ]
    }
   ],
   "source": [
    "# Function to calculate the sum of squares of the first n natural numbers\n",
    "def sum_of_squares(n):\n",
    "    # Initialize sum to 0\n",
    "    total = 0\n",
    "    \n",
    "    # Loop through the first n natural numbers\n",
    "    for i in range(1, n + 1):\n",
    "        total += i ** 2  # Add the square of i to the total\n",
    "    \n",
    "    return total\n",
    "\n",
    "# Input: user provides a number\n",
    "n = int(input(\"Enter a number: \"))\n",
    "\n",
    "# Output: sum of squares of the first n natural numbers\n",
    "result = sum_of_squares(n)\n",
    "print(f\"The sum of squares of the first {n} natural numbers is: {result}\")\n"
   ]
  },
  {
   "cell_type": "code",
   "execution_count": 37,
   "metadata": {},
   "outputs": [
    {
     "name": "stdout",
     "output_type": "stream",
     "text": [
      "Area: 15\n",
      "Perimeter: 16\n"
     ]
    }
   ],
   "source": [
    "class Rectangle:\n",
    "    # Constructor to initialize length and width\n",
    "    def __init__(self, length, width):\n",
    "        self.length = length\n",
    "        self.width = width\n",
    "\n",
    "    # Method to calculate the area of the rectangle\n",
    "    def area(self):\n",
    "        return self.length * self.width\n",
    "\n",
    "    # Method to calculate the perimeter of the rectangle\n",
    "    def perimeter(self):\n",
    "        return 2 * (self.length + self.width)\n",
    "\n",
    "# Example usage:\n",
    "# Creating a rectangle object\n",
    "rect = Rectangle(5, 3)\n",
    "\n",
    "# Calculating and printing the area\n",
    "print(f\"Area: {rect.area()}\")  # Output: 30\n",
    "\n",
    "# Calculating and printing the perimeter\n",
    "print(f\"Perimeter: {rect.perimeter()}\")  # Output: 55\n"
   ]
  },
  {
   "cell_type": "code",
   "execution_count": 38,
   "metadata": {},
   "outputs": [
    {
     "name": "stdout",
     "output_type": "stream",
     "text": [
      "Name: suruchi shrestha\n",
      "Roll Number: 101\n",
      "Marks: 85\n",
      "suruchi shrestha has passed.\n"
     ]
    }
   ],
   "source": [
    "class Student:\n",
    "    # Constructor to initialize name, roll_number, and marks\n",
    "    def __init__(self, name, roll_number, marks):\n",
    "        self.name = name\n",
    "        self.roll_number = roll_number\n",
    "        self.marks = marks\n",
    "\n",
    "    # Method to display the student's details\n",
    "    def display_details(self):\n",
    "        print(f\"Name: {self.name}\")\n",
    "        print(f\"Roll Number: {self.roll_number}\")\n",
    "        print(f\"Marks: {self.marks}\")\n",
    "\n",
    "    # Method to check if the student has passed\n",
    "    def is_passed(self):\n",
    "        return self.marks >= 40\n",
    "\n",
    "# Example usage:\n",
    "# Creating a student object\n",
    "student1 = Student(\"suruchi shrestha\", 101, 85)\n",
    "\n",
    "# Displaying the student's details\n",
    "student1.display_details()\n",
    "# Output:\n",
    "# Name: suruchi shrestha\n",
    "# Roll Number: 101\n",
    "# Marks: 85\n",
    "\n",
    "# Checking if the student has passed\n",
    "if student1.is_passed():\n",
    "    print(f\"{student1.name} has passed.\")\n",
    "else:\n",
    "    print(f\"{student1.name} has failed.\")\n",
    "# Output: suruchi shrestha has passed.\n"
   ]
  },
  {
   "cell_type": "code",
   "execution_count": 39,
   "metadata": {},
   "outputs": [
    {
     "name": "stdout",
     "output_type": "stream",
     "text": [
      "Area: 78.54\n",
      "Circumference: 31.42\n"
     ]
    }
   ],
   "source": [
    "import math\n",
    "\n",
    "class Circle:\n",
    "    # Constructor to initialize the radius\n",
    "    def __init__(self, radius):\n",
    "        self.radius = radius\n",
    "\n",
    "    # Method to calculate the area of the circle\n",
    "    def area(self):\n",
    "        return math.pi * (self.radius ** 2)\n",
    "\n",
    "    # Method to calculate the circumference of the circle\n",
    "    def circumference(self):\n",
    "        return 2 * math.pi * self.radius\n",
    "\n",
    "# Example usage:\n",
    "# Creating a circle object\n",
    "circle = Circle(5)\n",
    "\n",
    "# Calculating and printing the area\n",
    "print(f\"Area: {circle.area():.2f}\")  # Output: Area: 78.54\n",
    "\n",
    "# Calculating and printing the circumference\n",
    "print(f\"Circumference: {circle.circumference():.2f}\")  # Output: Circumference: 31.42\n"
   ]
  },
  {
   "cell_type": "code",
   "execution_count": 40,
   "metadata": {},
   "outputs": [
    {
     "name": "stdout",
     "output_type": "stream",
     "text": [
      "Deposited $500. New balance: $1500\n",
      "Current balance: $1500\n",
      "Withdrew $200. New balance: $1300\n",
      "Current balance: $1300\n",
      "Insufficient funds.\n",
      "Current balance: $1300\n"
     ]
    }
   ],
   "source": [
    "class BankAccount:\n",
    "    # Constructor to initialize account number, holder name, and balance\n",
    "    def __init__(self, account_number, account_holder, balance=0):\n",
    "        self.account_number = account_number\n",
    "        self.account_holder = account_holder\n",
    "        self.balance = balance\n",
    "\n",
    "    # Method to deposit money into the account\n",
    "    def deposit(self, amount):\n",
    "        if amount > 0:\n",
    "            self.balance += amount\n",
    "            print(f\"Deposited ${amount}. New balance: ${self.balance}\")\n",
    "        else:\n",
    "            print(\"Deposit amount must be greater than zero.\")\n",
    "\n",
    "    # Method to withdraw money from the account (if sufficient balance exists)\n",
    "    def withdraw(self, amount):\n",
    "        if amount > 0:\n",
    "            if amount <= self.balance:\n",
    "                self.balance -= amount\n",
    "                print(f\"Withdrew ${amount}. New balance: ${self.balance}\")\n",
    "            else:\n",
    "                print(\"Insufficient funds.\")\n",
    "        else:\n",
    "            print(\"Withdrawal amount must be greater than zero.\")\n",
    "\n",
    "    # Method to display the current balance\n",
    "    def display_balance(self):\n",
    "        print(f\"Current balance: ${self.balance}\")\n",
    "\n",
    "# Example usage:\n",
    "# Creating a BankAccount object\n",
    "account = BankAccount(123456789, \"suruchi shrestha\", 1000)\n",
    "\n",
    "# Depositing money\n",
    "account.deposit(500)  # Depositing 500\n",
    "account.display_balance()\n",
    "\n",
    "# Withdrawing money\n",
    "account.withdraw(200)  # Withdrawing 200\n",
    "account.display_balance()\n",
    "\n",
    "# Attempting to withdraw more than the balance\n",
    "account.withdraw(2000)  # Should show insufficient funds\n",
    "account.display_balance()\n"
   ]
  },
  {
   "cell_type": "code",
   "execution_count": 41,
   "metadata": {},
   "outputs": [
    {
     "name": "stdout",
     "output_type": "stream",
     "text": [
      "Addition: 5 + 3 = 8\n",
      "Subtraction: 5 - 3 = 2\n",
      "Multiplication: 5 * 3 = 15\n",
      "Division: 6 / 3 = 2.0\n",
      "Division by zero: 5 / 0 = Error: Division by zero is not allowed.\n"
     ]
    }
   ],
   "source": [
    "class Calculator:\n",
    "    # Method to add two numbers\n",
    "    def add(self, a, b):\n",
    "        return a + b\n",
    "\n",
    "    # Method to subtract two numbers\n",
    "    def subtract(self, a, b):\n",
    "        return a - b\n",
    "\n",
    "    # Method to multiply two numbers\n",
    "    def multiply(self, a, b):\n",
    "        return a * b\n",
    "\n",
    "    # Method to divide two numbers, handling division by zero gracefully\n",
    "    def divide(self, a, b):\n",
    "        if b == 0:\n",
    "            return \"Error: Division by zero is not allowed.\"\n",
    "        else:\n",
    "            return a / b\n",
    "\n",
    "# Example usage:\n",
    "# Creating a Calculator object\n",
    "calc = Calculator()\n",
    "\n",
    "# Performing calculations\n",
    "print(f\"Addition: 5 + 3 = {calc.add(5, 3)}\")          # Output: 8\n",
    "print(f\"Subtraction: 5 - 3 = {calc.subtract(5, 3)}\")  # Output: 2\n",
    "print(f\"Multiplication: 5 * 3 = {calc.multiply(5, 3)}\")  # Output: 15\n",
    "print(f\"Division: 6 / 3 = {calc.divide(6, 3)}\")      # Output: 2.0\n",
    "print(f\"Division by zero: 5 / 0 = {calc.divide(5, 0)}\")  # Output: Error message\n"
   ]
  },
  {
   "cell_type": "code",
   "execution_count": 42,
   "metadata": {},
   "outputs": [
    {
     "name": "stdout",
     "output_type": "stream",
     "text": [
      "Hello, my name is suruchi shrestha, I am 21 years old, and I am a female.\n",
      "Hello, my name is birash , I am 28 years old, I am a male, and I work as a Software Developer.\n"
     ]
    }
   ],
   "source": [
    "# Parent class Person\n",
    "class Person:\n",
    "    # Constructor to initialize name, age, and gender\n",
    "    def __init__(self, name, age, gender):\n",
    "        self.name = name\n",
    "        self.age = age\n",
    "        self.gender = gender\n",
    "\n",
    "    # Method to introduce the person\n",
    "    def introduce(self):\n",
    "        print(f\"Hello, my name is {self.name}, I am {self.age} years old, and I am a {self.gender}.\")\n",
    "\n",
    "# Subclass Employee inheriting from Person\n",
    "class Employee(Person):\n",
    "    # Constructor to initialize name, age, gender, and job_title\n",
    "    def __init__(self, name, age, gender, job_title):\n",
    "        super().__init__(name, age, gender)  # Call the parent class constructor\n",
    "        self.job_title = job_title\n",
    "\n",
    "    # Override the introduce method to include job title\n",
    "    def introduce(self):\n",
    "        print(f\"Hello, my name is {self.name}, I am {self.age} years old, I am a {self.gender}, and I work as a {self.job_title}.\")\n",
    "\n",
    "# Example usage:\n",
    "\n",
    "# Creating a Person object\n",
    "person = Person(\"suruchi shrestha\", 21, \"female\")\n",
    "person.introduce()\n",
    "# Output: Hello, my name is suruchi shrestha, I am 21 years old, and I am a female.\n",
    "\n",
    "# Creating an Employee object\n",
    "employee = Employee(\"birash \", 28, \"male\", \"Software Developer\")\n",
    "employee.introduce()\n",
    "# Output: Hello, my name is birash , I am 28 years old, I am a male, and I work as a Software Developer.\n"
   ]
  },
  {
   "cell_type": "code",
   "execution_count": 43,
   "metadata": {},
   "outputs": [
    {
     "name": "stdout",
     "output_type": "stream",
     "text": [
      "1\n",
      "2\n",
      "3\n",
      "4\n",
      "5\n",
      "6\n",
      "7\n",
      "8\n",
      "9\n",
      "10\n",
      "\n"
     ]
    }
   ],
   "source": [
    "# Creating and writing to the file\n",
    "with open(\"data.txt\", \"w\") as file:\n",
    "    for i in range(1, 11):\n",
    "        file.write(f\"{i}\\n\")\n",
    "\n",
    "# Reading the file and printing its contents\n",
    "with open(\"data.txt\", \"r\") as file:\n",
    "    contents = file.read()\n",
    "    print(contents)\n"
   ]
  },
  {
   "cell_type": "code",
   "execution_count": 44,
   "metadata": {},
   "outputs": [
    {
     "name": "stdout",
     "output_type": "stream",
     "text": [
      "The file sample.txt does not exist.\n"
     ]
    }
   ],
   "source": [
    "# Function to count words in a file\n",
    "def count_words_in_file(file_name):\n",
    "    try:\n",
    "        with open(file_name, \"r\") as file:\n",
    "            content = file.read()\n",
    "            words = content.split()  # Split content into words based on whitespace\n",
    "            return len(words)  # Return the number of words\n",
    "    except FileNotFoundError:\n",
    "        print(f\"The file {file_name} does not exist.\")\n",
    "        return 0\n",
    "\n",
    "# Example usage\n",
    "file_name = \"sample.txt\"\n",
    "word_count = count_words_in_file(file_name)\n",
    "\n",
    "if word_count:\n",
    "    print(f\"The number of words in {file_name} is: {word_count}\")\n"
   ]
  },
  {
   "cell_type": "code",
   "execution_count": 45,
   "metadata": {},
   "outputs": [
    {
     "name": "stdout",
     "output_type": "stream",
     "text": [
      "The result of 1.0 divided by 6.0 is: 0.16666666666666666\n"
     ]
    }
   ],
   "source": [
    "# Function to perform division with error handling\n",
    "def divide_numbers():\n",
    "    try:\n",
    "        # Take input from the user\n",
    "        num1 = float(input(\"Enter the first number: \"))\n",
    "        num2 = float(input(\"Enter the second number: \"))\n",
    "        \n",
    "        # Perform division\n",
    "        result = num1 / num2\n",
    "        print(f\"The result of {num1} divided by {num2} is: {result}\")\n",
    "    \n",
    "    except ZeroDivisionError:\n",
    "        print(\"Error: Division by zero is not allowed.\")\n",
    "    \n",
    "    except ValueError:\n",
    "        print(\"Error: Invalid input. Please enter valid numbers.\")\n",
    "\n",
    "# Call the function to perform division\n",
    "divide_numbers()\n"
   ]
  },
  {
   "cell_type": "code",
   "execution_count": 47,
   "metadata": {},
   "outputs": [
    {
     "name": "stdout",
     "output_type": "stream",
     "text": [
      "You entered the integer: 100\n"
     ]
    }
   ],
   "source": [
    "\n",
    "# Function to ask the user for an integer input\n",
    "def get_integer_input():\n",
    "    try:\n",
    "        # Prompt the user to enter an integer\n",
    "        user_input = int(input(\"Please enter an integer: \"))\n",
    "    except ValueError:\n",
    "        # Handle invalid input (not an integer)\n",
    "        print(\"Invalid input, please enter an integer.\")\n",
    "    else:\n",
    "        # If input is valid, print the entered integer\n",
    "        print(f\"You entered the integer: {user_input}\")\n",
    "\n",
    "# Call the function to get the input\n",
    "get_integer_input()\n"
   ]
  },
  {
   "cell_type": "code",
   "execution_count": 48,
   "metadata": {},
   "outputs": [
    {
     "name": "stdout",
     "output_type": "stream",
     "text": [
      "Error: The file 'unknown.txt' was not found.\n"
     ]
    }
   ],
   "source": [
    "# Function to open and read a file with error handling\n",
    "def open_file():\n",
    "    try:\n",
    "        # Attempt to open the file\n",
    "        with open(\"unknown.txt\", \"r\") as file:\n",
    "            content = file.read()\n",
    "            print(content)  # Print the content of the file\n",
    "    except FileNotFoundError:\n",
    "        # Handle the case where the file does not exist\n",
    "        print(\"Error: The file 'unknown.txt' was not found.\")\n",
    "\n",
    "# Call the function to open the file\n",
    "open_file()\n"
   ]
  }
 ],
 "metadata": {
  "kernelspec": {
   "display_name": "Python 3",
   "language": "python",
   "name": "python3"
  },
  "language_info": {
   "codemirror_mode": {
    "name": "ipython",
    "version": 3
   },
   "file_extension": ".py",
   "mimetype": "text/x-python",
   "name": "python",
   "nbconvert_exporter": "python",
   "pygments_lexer": "ipython3",
   "version": "3.11.9"
  }
 },
 "nbformat": 4,
 "nbformat_minor": 2
}
